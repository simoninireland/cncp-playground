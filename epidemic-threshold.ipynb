{
 "cells": [
  {
   "cell_type": "markdown",
   "metadata": {},
   "source": [
    "# The epidemic threshold of an ER network"
   ]
  },
  {
   "cell_type": "markdown",
   "metadata": {},
   "source": [
    "Do *all* diseases lead to epidemics? Intuitively it seems quite unlikely: a really uninfectious disease (one with a small value of $\\beta$), or a disease that didn't stay infectious for very long (one with a large value of $\\alpha$) -- or both -- would seem to be candidates for diseases that don't become epidemic. In the first case, the disease is hard to pass from infected to susceptible individuals; in the latter, it has only a small time window in which to do so before the host individual is removed. One might also expect that a really sparse network would fail to transmit the disease well, since an infectd node would have few neighbours to infect.\n",
    "\n",
    "It turns out that, for some networks at least, there's a well-defined value of infectiousness that, when exceeded, causes epidemic outbreaks. This is referred to as the **epidemic threshold** (also sometimes called the **percolation threshold** for reasons that'll become clear when we discuss percolation theory)."
   ]
  },
  {
   "cell_type": "code",
   "execution_count": 1,
   "metadata": {},
   "outputs": [],
   "source": [
    "# simulation and maths packages\n",
    "import numpy\n",
    "import networkx\n",
    "from epyc import HDF5LabNotebook, ParallelLab, RepeatedExperiment\n",
    "from epydemic import StochasticDynamics, SIR, ERNetwork\n",
    "\n",
    "# display and interaction\n",
    "from IPython.display import display, Math\n",
    "from jupyter_dash import JupyterDash\n",
    "from dash.dependencies import Input, Output\n",
    "import plotly.express as px\n",
    "import plotly.graph_objects as go\n",
    "import dash_core_components as dcc\n",
    "import dash_html_components as html"
   ]
  },
  {
   "cell_type": "code",
   "execution_count": 2,
   "metadata": {},
   "outputs": [],
   "source": [
    "# start a local lab\n",
    "nb = HDF5LabNotebook('datasets/epidemic-threshold.h5', create=True)\n",
    "lab = ParallelLab(nb, cores=10)"
   ]
  },
  {
   "cell_type": "markdown",
   "metadata": {},
   "source": [
    "## What is the epidemic threshold?"
   ]
  },
  {
   "cell_type": "markdown",
   "metadata": {},
   "source": []
  },
  {
   "cell_type": "markdown",
   "metadata": {},
   "source": [
    "## Exploring the epidemic threshold"
   ]
  },
  {
   "cell_type": "markdown",
   "metadata": {},
   "source": [
    "Let's see how the epidemic threshold manifests itself. To do this we'll run an epidemic disease process over a random ER network, keeping the removal (recovery) rate constant and varying the infection rate. We expect that the size of epidemic will shift dramatically, rather than steadily, as the infection rate increases. This **phase transition** -- from small numbers of infected individuals to essentially everyone being infected -- occurs when $\\beta$ cross the epidemic threshold, which we'll denote $\\beta_{crit}$.\n",
    "\n",
    "We need a network that is \"large enough\" to deonstrate the effect we're looking for. (We'll explore different sizes a little later.) For now, we can start with a modest 1000-node network with $\\langle k \\rangle = 8$."
   ]
  },
  {
   "cell_type": "code",
   "execution_count": 3,
   "metadata": {},
   "outputs": [],
   "source": [
    "# ER network parameters\n",
    "N = 1000\n",
    "kmean = 8\n",
    "phi = kmean / N\n",
    "\n",
    "# the theoretical epidemic (percolation) threshold for ER networks \n",
    "Tcrit = 1 / kmean"
   ]
  },
  {
   "cell_type": "markdown",
   "metadata": {},
   "source": [
    "### Running the experiment"
   ]
  },
  {
   "cell_type": "code",
   "execution_count": 4,
   "metadata": {},
   "outputs": [],
   "source": [
    "if not nb.already('epidemic-threshold-er'):\n",
    "    # create a result set for the simulation\n",
    "    rs = nb.addResultSet('epidemic-threshold-er')\n",
    "\n",
    "    # set the parameters\n",
    "    lab[ERNetwork.N] = N\n",
    "    lab[ERNetwork.PHI] = phi\n",
    "    lab[SIR.P_INFECT] = numpy.linspace(0.0, 1.0, num=250)\n",
    "    lab[SIR.P_REMOVE] = 1.0\n",
    "    lab[SIR.P_INFECTED] = 0.005\n",
    "\n",
    "    # create an experiment combining the model with a network class \n",
    "    e = StochasticDynamics(SIR(), ERNetwork())\n",
    "\n",
    "    # run the experiment over the parameter space \n",
    "    lab.runExperiment(RepeatedExperiment(e, 10))\n",
    "    rs.finish()\n",
    "    nb.commit()\n",
    "\n",
    "    # retrieve the results ready for analysis\n",
    "    df = rs.dataframe()"
   ]
  },
  {
   "cell_type": "code",
   "execution_count": 5,
   "metadata": {},
   "outputs": [],
   "source": [
    "# load the simulation results\n",
    "rs = nb.select('epidemic-threshold-er')\n",
    "df = rs.dataframe()"
   ]
  },
  {
   "cell_type": "markdown",
   "metadata": {},
   "source": [
    "### The results"
   ]
  },
  {
   "cell_type": "code",
   "execution_count": 6,
   "metadata": {},
   "outputs": [
    {
     "data": {
      "text/html": [
       "\n",
       "        <iframe\n",
       "            width=\"100%\"\n",
       "            height=\"650\"\n",
       "            src=\"http://127.0.0.1:8050/\"\n",
       "            frameborder=\"0\"\n",
       "            allowfullscreen\n",
       "        ></iframe>\n",
       "        "
      ],
      "text/plain": [
       "<IPython.lib.display.IFrame at 0x7f8edfba8880>"
      ]
     },
     "metadata": {},
     "output_type": "display_data"
    }
   ],
   "source": [
    "app = JupyterDash('epidemic-threshold-er')\n",
    "\n",
    "app.layout = html.Div([\n",
    "    dcc.Graph(id='epidemic-threshold-er-plot'),\n",
    "    dcc.Checklist(id='epidemic-threshold-er-include',\n",
    "                  options=[dict(label='Include zero and non-epidemic outbreaks', value='ALL')], value=['ALL'])\n",
    "])\n",
    "\n",
    "@app.callback(\n",
    "    Output('epidemic-threshold-er-plot', 'figure'),\n",
    "    [Input('epidemic-threshold-er-include', 'value')]\n",
    ")\n",
    "def plot_epidemic_threshold(params):\n",
    "    if 'ALL' in params:\n",
    "        pdf = df\n",
    "    else:\n",
    "        pdf = df[df[SIR.REMOVED] >= N * 0.01]\n",
    "    mdf_x = pdf[SIR.P_INFECT].unique()\n",
    "    mdf_y = [ pdf[pdf[SIR.P_INFECT] == pInfect][SIR.REMOVED].mean() for pInfect in mdf_x ]\n",
    "            \n",
    "    fig = go.Figure()\n",
    "    fig.add_trace(go.Scatter(x=pdf[SIR.P_INFECT], y=pdf[SIR.REMOVED],\n",
    "                             mode='markers', marker=dict(color='powderblue'),\n",
    "                             name='Individual samples'))\n",
    "    fig.add_trace(go.Scatter(x=mdf_x, y=mdf_y,\n",
    "                             mode='lines', line = dict(color='blue'),\n",
    "                             name='Mean epidemic size'))\n",
    "    fig.add_trace(go.Scatter(x=[Tcrit, Tcrit], y=[0.0, pdf[SIR.REMOVED].max()],\n",
    "                             mode='lines', line=go.scatter.Line(color='gray'),\n",
    "                             showlegend=False))\n",
    "    \n",
    "    return fig\n",
    "            \n",
    "app.run_server(mode='inline')"
   ]
  },
  {
   "cell_type": "code",
   "execution_count": null,
   "metadata": {},
   "outputs": [],
   "source": []
  },
  {
   "cell_type": "code",
   "execution_count": null,
   "metadata": {},
   "outputs": [],
   "source": []
  }
 ],
 "metadata": {
  "kernelspec": {
   "display_name": "Python 3",
   "language": "python",
   "name": "python3"
  },
  "language_info": {
   "codemirror_mode": {
    "name": "ipython",
    "version": 3
   },
   "file_extension": ".py",
   "mimetype": "text/x-python",
   "name": "python",
   "nbconvert_exporter": "python",
   "pygments_lexer": "ipython3",
   "version": "3.9.3"
  }
 },
 "nbformat": 4,
 "nbformat_minor": 4
}
