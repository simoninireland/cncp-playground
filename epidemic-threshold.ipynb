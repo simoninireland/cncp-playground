{
 "cells": [
  {
   "cell_type": "markdown",
   "metadata": {},
   "source": [
    "# The epidemic threshold of an ER network"
   ]
  },
  {
   "cell_type": "code",
   "execution_count": 105,
   "metadata": {},
   "outputs": [],
   "source": [
    "import numpy\n",
    "import networkx\n",
    "from epyc import LabNotebook, ParallelLab, RepeatedExperiment\n",
    "from epydemic import StochasticDynamics, SIR \n",
    "\n",
    "from jupyter_dash import JupyterDash\n",
    "from dash.dependencies import Input, Output\n",
    "import plotly.express as px\n",
    "import plotly.graph_objects as go\n",
    "import dash_core_components as dcc\n",
    "import dash_html_components as html"
   ]
  },
  {
   "cell_type": "code",
   "execution_count": 2,
   "metadata": {},
   "outputs": [],
   "source": [
    "nb = LabNotebook()\n",
    "lab = ParallelLab(nb, cores=1)"
   ]
  },
  {
   "cell_type": "code",
   "execution_count": 3,
   "metadata": {},
   "outputs": [],
   "source": [
    "N = 1000\n",
    "kmean = 8\n",
    "phi = kmean / N\n",
    "\n",
    "Tcrit = 1 / kmean"
   ]
  },
  {
   "cell_type": "code",
   "execution_count": 79,
   "metadata": {},
   "outputs": [],
   "source": [
    "g = networkx.fast_gnp_random_graph(N, phi)\n",
    "m = SIR()\n",
    "e = StochasticDynamics(m, g)"
   ]
  },
  {
   "cell_type": "code",
   "execution_count": 106,
   "metadata": {},
   "outputs": [],
   "source": [
    "rs = nb.addResultSet('epydemic-threshold-6')\n",
    "lab[SIR.P_INFECT] = list(numpy.linspace(0.0, 0.1, num=20)) + list(numpy.linspace(0.1, 0.4, num=150)) + list(numpy.linspace(0.4, 1.0, num=80))\n",
    "lab[SIR.P_REMOVE] = 1.0\n",
    "lab[SIR.P_INFECTED] = 0.005\n",
    "lab.runExperiment(RepeatedExperiment(e, 10))\n",
    "df = rs.dataframe()"
   ]
  },
  {
   "cell_type": "code",
   "execution_count": 189,
   "metadata": {},
   "outputs": [
    {
     "data": {
      "text/html": [
       "\n",
       "        <iframe\n",
       "            width=\"100%\"\n",
       "            height=\"650\"\n",
       "            src=\"http://127.0.0.1:8050/\"\n",
       "            frameborder=\"0\"\n",
       "            allowfullscreen\n",
       "        ></iframe>\n",
       "        "
      ],
      "text/plain": [
       "<IPython.lib.display.IFrame at 0x7f1097f1eb80>"
      ]
     },
     "metadata": {},
     "output_type": "display_data"
    }
   ],
   "source": [
    "app = JupyterDash('epidemic-threshold')\n",
    "\n",
    "app.layout = html.Div([\n",
    "    dcc.Graph(id='epidemic-threshold-plot'),\n",
    "    html.Label([\n",
    "        html.Span(id='epidemic-threshold-range'),\n",
    "        dcc.RangeSlider(id='epidemic-threshold-Tcrit',\n",
    "                        min=0.0, max=1.0, step=0.001,\n",
    "                        marks={0.1 * i: '{v:.1f}'.format(v=0.1 * i) for i in range(11)},\n",
    "                        value=[0.0, 1.0],\n",
    "                        allowCross=False)\n",
    "    ]),\n",
    "])\n",
    "\n",
    "@app.callback(\n",
    "    [Output('epidemic-threshold-plot', 'figure'), Output('epidemic-threshold-range', 'children')],\n",
    "    [Input(\"epidemic-threshold-Tcrit\", \"value\")]\n",
    ")\n",
    "def plot_epidemic_threshold(Ts):\n",
    "    min_t = min(df[SIR.P_INFECT], key=lambda x: abs(x - Ts[0]))\n",
    "    max_t = min(df[SIR.P_INFECT], key=lambda x: abs(x - Ts[1]))\n",
    "    pdf = df[(df[SIR.P_INFECT] >= min_t) & (df[SIR.P_INFECT] <= max_t)]\n",
    "    \n",
    "    mdf_x = pdf[SIR.P_INFECT].unique()\n",
    "    mdf_y = [ pdf[pdf[SIR.P_INFECT] == pInfect][SIR.REMOVED].mean() for pInfect in mdf_x ]\n",
    "    \n",
    "    fig = go.Figure(layout=dict(title=dict(text=r'Epidemic size for ER network $\\phi$')))\n",
    "    fig.add_trace(go.Scatter(x=pdf[SIR.P_INFECT], y=pdf[SIR.REMOVED],\n",
    "                             mode='markers', marker=dict(color='powderblue'),\n",
    "                             name='Individual samples'))\n",
    "    fig.add_trace(go.Scatter(x=mdf_x, y=mdf_y,\n",
    "                             mode='lines', line = dict(color='blue'),\n",
    "                             name='Mean epidemic size'))\n",
    "    fig.add_trace(go.Scatter(x=[Tcrit, Tcrit], y=[0.0, pdf[SIR.REMOVED].max()],\n",
    "                             mode='lines', line=go.scatter.Line(color='gray'),\n",
    "                             showlegend=False))\n",
    "    \n",
    "    label = '[{l:.2f}, {h:.2f}]'.format(l=min_t, h=max_t)\n",
    "    \n",
    "    return (fig, label)\n",
    "            \n",
    "app.run_server(mode='inline')"
   ]
  },
  {
   "cell_type": "code",
   "execution_count": null,
   "metadata": {},
   "outputs": [],
   "source": []
  },
  {
   "cell_type": "code",
   "execution_count": null,
   "metadata": {},
   "outputs": [],
   "source": []
  }
 ],
 "metadata": {
  "kernelspec": {
   "display_name": "Python 3",
   "language": "python",
   "name": "python3"
  },
  "language_info": {
   "codemirror_mode": {
    "name": "ipython",
    "version": 3
   },
   "file_extension": ".py",
   "mimetype": "text/x-python",
   "name": "python",
   "nbconvert_exporter": "python",
   "pygments_lexer": "ipython3",
   "version": "3.8.6"
  }
 },
 "nbformat": 4,
 "nbformat_minor": 4
}
