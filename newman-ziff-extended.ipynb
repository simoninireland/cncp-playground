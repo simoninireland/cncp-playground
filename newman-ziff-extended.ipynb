{
 "cells": [
  {
   "cell_type": "markdown",
   "id": "focused-psychology",
   "metadata": {},
   "source": [
    "# An extension of the Newman-Ziff algorithm for studying repeated percolation processes  "
   ]
  },
  {
   "cell_type": "markdown",
   "id": "dutch-saver",
   "metadata": {},
   "source": [
    "## Overview"
   ]
  },
  {
   "cell_type": "markdown",
   "id": "sporting-maldives",
   "metadata": {},
   "source": [
    "TBD..."
   ]
  },
  {
   "cell_type": "markdown",
   "id": "molecular-samba",
   "metadata": {},
   "source": [
    "## The Newman-Ziff algorithm"
   ]
  },
  {
   "cell_type": "markdown",
   "id": "mysterious-nightmare",
   "metadata": {},
   "source": [
    "We begin with a **base network** $G = (N, E)$, and want to explore the percolation behaviour of this network for some probability $T$ that an edge in the base network is **occupied**. For a given value of $T$ we independently occupy each edge with probability $T$ or leave it unoccupied with probability $(1 - T)$. The set of occupied edges $E_T$ induces a set of occupied nodes $N_T$ which is the sub-set of nodes from $N$  upon which at least one edge from $E_T$ is incident. Taken together these two sets form the **occupied network at $T$** $O_T = (N_T, E_T)$. Note that percolation is a stochastic process, so $O$ is a member of the ensemble of all networks formed by occupying some fraction $T$ of the edges in $E$.\n",
    "\n",
    "One might think that in order to study a range of values of $T$ it would be necessary to repeat the perecolation process anew on $B$ each time. The Newman-Ziff (NZ) algorithm simplifies this process by constructing $O_T$ for all values of $T$ in a single sweep through $E$. It works on the observation that $O_0 = (\\emptyset, \\emptyset)$, the empty network, while $O_1 = G$. Let $M = |E|$ denote the number oif edges in $G$. We select a single edge at random from $E$ and occupy it to form $O_\\frac{1}{M}$ consisting of two nodes connected by that edge (assuming no self-loops). This network is a valid member of the ensemble of networks consisting of a single edge taken from $E$, formed with an occupation probability $T = \\frac{1}{M}$. If we select another edge randomly from $E$ and occupy it, adding it (and its incident nodes) to $O_\\frac{1}{M}$, we form the network $O_\\frac{2}{M}$, and so forth until all edges in $E$ have been occupied, forming the network $O_1$. Each $O_T$ is one possible realisation of the percolation process for occupation probability $T$.\n",
    "\n",
    "Clearly it is wasteful to hold the sequence of $O_T$, and NZ insteads creates them in sequence, keeping track of any properties of interest along the way. The most basic proerty is the size of the largest connected component (LCC) in each $O_T$, which will become a giant connected component (GCC) above the critical percolation threshold $T_c$. (For simplicity we usually refer to \"the GCC\" even in the sub-critical domain.) This computation requires that all nodes are labelled to identify the component to which they belong, where initially every node is a component of size 1 consisting of itself alone. Occupying edges connects components together to form larger components, which requires re-labelling the nodes of one to have the label of the other. NZ adopts a novel encoding of nodes and components to allow this process (called \"union-find\" in the computer science literature) to happen efficiently. "
   ]
  },
  {
   "cell_type": "code",
   "execution_count": 4,
   "id": "mobile-tackle",
   "metadata": {},
   "outputs": [],
   "source": [
    "from epyc import Lab, Experiment, ResultsDict\n",
    "from epydemic import Node, Edge, NetworkExperiment, ERNetwork, PLCNetwork\n",
    "from networkx import Graph, read_adjlist\n",
    "import numpy\n",
    "\n",
    "from typing import Any, Dict, Union, Iterable, List, Final, Optional, cast\n",
    "\n",
    "# display and interaction\n",
    "from IPython.display import display, Math\n",
    "from jupyter_dash import JupyterDash\n",
    "from dash.dependencies import Input, Output\n",
    "import plotly.express as px\n",
    "import plotly.graph_objects as go\n",
    "import dash_core_components as dcc\n",
    "import dash_html_components as html"
   ]
  },
  {
   "cell_type": "code",
   "execution_count": 6,
   "id": "threatened-ensemble",
   "metadata": {},
   "outputs": [],
   "source": [
    "JupyterDash.infer_jupyter_proxy_config()"
   ]
  },
  {
   "cell_type": "code",
   "execution_count": 7,
   "id": "convertible-wilderness",
   "metadata": {},
   "outputs": [],
   "source": [
    "class NewmanZiff(NetworkExperiment):\n",
    "    '''Base class for the Newman-Ziff site and bond percolation algorithm.\n",
    "    \n",
    "    :param g: (optional) the underlying network or generator\n",
    "    :param samples: (optional) number of samples or list of sample points (defaults to 100)'''\n",
    "\n",
    "    def __init__(self, g : Graph =None, samples : Union[int, Iterable[float]] =None):\n",
    "        super(NewmanZiff, self).__init__(g)\n",
    "\n",
    "        # fill in default\n",
    "        if samples is None:\n",
    "            samples = 100\n",
    "        if isinstance(samples, int):\n",
    "            samples = numpy.linspace(0.0, 1.0, num=samples, endpoint=True)\n",
    "        self._samples : List[float] = sorted(numpy.unique(list(cast(Iterable[float], samples))))\n",
    "\n",
    "        # components data structure is initially empty\n",
    "        self._components : numpy.ndarray = None\n",
    "\n",
    "        # no component\n",
    "        self._gcc = 0\n",
    "\n",
    "    def tearDown(self):\n",
    "        '''Throw away the components data structure at tear-down.'''\n",
    "        self._components = None\n",
    "        super(NewmanZiff, self).tearDown()\n",
    "\n",
    "    def report(self, params : Dict[str, Any], meta : Dict[str, Any], res : List[Dict[str, Any]]) -> List[ResultsDict]:\n",
    "        '''Re-write the list of results into a list of individual experiments by\n",
    "        wrapping them up as results dicts. Essentially this presents the results as though\n",
    "        a percolation experiment had happened for each sample.\n",
    "\n",
    "        :param params: the experimental parameters\n",
    "        :param meta: the metadata\n",
    "        :param res: a list of individual sample results\n",
    "        :returns: a list of results dicts'''\n",
    "        rcs = []\n",
    "        for r in res:\n",
    "            # wrap the experiment results in their own results dict\n",
    "            rc = self.resultsdict()\n",
    "            rc[self.PARAMETERS] = params.copy()\n",
    "            rc[self.METADATA] = meta.copy()\n",
    "            rc[self.RESULTS] = r.copy()\n",
    "            rcs.append(rc)\n",
    "        return rcs"
   ]
  },
  {
   "cell_type": "code",
   "execution_count": 8,
   "id": "significant-volunteer",
   "metadata": {},
   "outputs": [],
   "source": [
    "class BondPercolation(NewmanZiff):\n",
    "    '''A bond (edge) percolation experiment. This experiment computes the size of\n",
    "    the giant connected component (GCC) as edges are \"occupied\" within the underlying network.\n",
    "    It samples the GCC at a given sequence of occupation probabilities, returning\n",
    "    a time series of the growth of the GCC.\n",
    "\n",
    "    :param g: (optional) the underlying network or generator\n",
    "    :param samples: (optional) number of samples or list of sample points (defaults to 100)'''\n",
    "\n",
    "    # Synthesised parameters\n",
    "    P : Final[str] = 'epydemic.bondpercolation.pOccupied'    #: Parameter holding percolation threshold.\n",
    "\n",
    "    # Experimental results\n",
    "    GCC : Final[str] = 'epydemic.bondpercolation.gcc'        #: Result holding size of GCC.\n",
    "\n",
    "    def __init__(self, g : Graph =None, samples : Union[int, Iterable[float]] =None):\n",
    "        super(BondPercolation, self).__init__(g, samples)\n",
    "\n",
    "    def setUp(self, params : Dict[str, Any]):\n",
    "        '''Set up the process, creating the initial components data structure from the\n",
    "        underlying network.\n",
    "\n",
    "        :param params: the experimental parameters'''\n",
    "        super(BondPercolation, self).setUp(params)\n",
    "        self._components = numpy.full(N, -1, numpy.int32)\n",
    "        self._gcc = 1   # initially all nodes are individual components, unconnected by occupied edges\n",
    "\n",
    "    def rootOf(self, n : Node) -> Node:\n",
    "        np = self._components[n]\n",
    "        if np < 0:\n",
    "            # n is the root, return it\n",
    "            return n\n",
    "        else:\n",
    "            # n has a parent, follow the tree to it\n",
    "            r = self.rootOf(np)\n",
    "\n",
    "            # update our component record to point to the root\n",
    "            self._components[n] = r\n",
    "\n",
    "            # return the root\n",
    "            return r    \n",
    "\n",
    "    def occupy(self, n : Node, m : Node) -> Optional[int]:\n",
    "        nr = self.rootOf(n)\n",
    "        mr = self.rootOf(m)\n",
    "        if mr != nr:\n",
    "            # nodes are in different components, join them together\n",
    "            return self.join(nr, mr)\n",
    "        else:\n",
    "            # nodes are in the same component, do nothing\n",
    "            return None\n",
    "        \n",
    "    def join(self, c1 : Node, c2 : Node) -> int:\n",
    "        # extract the size of the second compooent\n",
    "        msize = self._components[c2]\n",
    "        \n",
    "        # join the second compoent to the first \n",
    "        self._components[c2] = c1\n",
    "        \n",
    "        # update the size of the first component\n",
    "        self._components[c1] += msize\n",
    "        \n",
    "        # update the GCC\n",
    "        self._gcc = max(self._gcc, -self._components[c1] )\n",
    "        \n",
    "        # return the size of the new component\n",
    "        return -self._components[c1]        \n",
    "    \n",
    "    def sample(self, p : float) -> Dict[str, Any]:\n",
    "        res = dict()\n",
    "        res[self.P] = p        \n",
    "        res[self.GCC] = self._gcc        \n",
    "        return res\n",
    "    \n",
    "    def percolate(self, es : List[Edge]):\n",
    "        # take an initial sample if requested\n",
    "        samples = []\n",
    "        samplePoint = 0\n",
    "        if self._samples[samplePoint] == 0.0:\n",
    "            samples.append(self.sample(self._samples[samplePoint]))\n",
    "            samplePoint += 1\n",
    "\n",
    "        # percolate the network\n",
    "        M = len(es)\n",
    "        for i in range(M):\n",
    "            (n, m) = es[i]\n",
    "\n",
    "            # occupy the edge\n",
    "            csize = self.occupy(n, m)\n",
    "\n",
    "            # take a sample if this is a sample point\n",
    "            if  (i + 1) / M >= self._samples[samplePoint]:\n",
    "                # we're at the closest probability after the requested sample point,\n",
    "                # so build the sample\n",
    "                samples.append(self.sample(self._samples[samplePoint]))\n",
    "\n",
    "                # if we've collected all the samples we want, bail out\n",
    "                samplePoint += 1\n",
    "                if samplePoint > len(self._samples):\n",
    "                    break\n",
    "                    \n",
    "        return samples\n",
    "    \n",
    "    def do(self, params : Dict[str, Any]) -> List[Dict[str, Any]]:\n",
    "        '''Perform the bond percolation process.\n",
    "\n",
    "        :param params: experimental parameters\n",
    "        :returns: a list of dicts of experimental results'''        \n",
    "        # extract and shuffle the edges\n",
    "        g = self.network()\n",
    "        es = list(g.edges()).copy()\n",
    "        numpy.random.shuffle(es)\n",
    "\n",
    "        return self.percolate(es)"
   ]
  },
  {
   "cell_type": "markdown",
   "id": "absent-material",
   "metadata": {},
   "source": [
    "We may now use this implementation to study the percolation behaviour of a network. We choose to use a powerlaw-with-cutoff random network."
   ]
  },
  {
   "cell_type": "code",
   "execution_count": 9,
   "id": "flexible-space",
   "metadata": {},
   "outputs": [],
   "source": [
    "N = 10000\n",
    "alpha = 2.5\n",
    "kappa = 20\n",
    "\n",
    "params = dict()\n",
    "params[PLCNetwork.N] = N\n",
    "params[PLCNetwork.EXPONENT] = alpha\n",
    "params[PLCNetwork.CUTOFF] = kappa"
   ]
  },
  {
   "cell_type": "markdown",
   "id": "fifth-claim",
   "metadata": {},
   "source": [
    "A network with these parameters can either be created, or loaded from one prepared earlier."
   ]
  },
  {
   "cell_type": "code",
   "execution_count": null,
   "id": "exciting-gross",
   "metadata": {},
   "outputs": [],
   "source": [
    "# execute this cell to generate a new network\n",
    "g = PLCNetwork().set(params).generate()"
   ]
  },
  {
   "cell_type": "code",
   "execution_count": 7,
   "id": "hydraulic-cincinnati",
   "metadata": {},
   "outputs": [],
   "source": [
    "# execute this cell to load one we prepared earlier\n",
    "#g = read_adjlist('plc-10000-2.5-20.al.gz', create_using=Graph, nodetype=int)"
   ]
  },
  {
   "cell_type": "markdown",
   "id": "stuck-belize",
   "metadata": {},
   "source": [
    "In either case, we may then perform percolation of this network and sample the size of the resulting GCC at each step. By default we take 100 samples, which we can then plot."
   ]
  },
  {
   "cell_type": "code",
   "execution_count": null,
   "id": "alive-timing",
   "metadata": {},
   "outputs": [],
   "source": [
    "e = BondPercolation(g)\n",
    "rcs = e.set(params).run()\n",
    "\n",
    "xs = [rc[Experiment.RESULTS][BondPercolation.P] for rc in rcs]\n",
    "ys = [rc[Experiment.RESULTS][BondPercolation.GCC] for rc in rcs]\n",
    "\n",
    "scatter = go.Scatter(x=xs, y=ys,\n",
    "                     mode='lines', marker=dict(color='green'))\n",
    "layout = go.Layout(title=f'Bond percolation on PLC network  (N={N}, exponent={alpha}, cutoff={kappa})',\n",
    "                  xaxis_title='occupation probability',\n",
    "                  yaxis_title='size of giant component', width=700, height=700)\n",
    "fig = go.Figure(data=scatter, layout=layout)\n",
    "fig.show()"
   ]
  },
  {
   "cell_type": "markdown",
   "id": "colored-operations",
   "metadata": {},
   "source": [
    "## Extending the algorithm to percolate the residual network"
   ]
  },
  {
   "cell_type": "markdown",
   "id": "subtle-consortium",
   "metadata": {},
   "source": [
    "The extended Newman-Ziff (ENZ) algorithm operates as a recursive callof NZ on the residual network formed from the party of the base network that has not been occupied by the primary percolation process. \n",
    "\n",
    "Suppose we are at some stage of the primary percolation process. We have thus formed $O_T$, the occupied sub-network at some value of $T$. The **residual network** $B_T = G - O_T$ is formed from the edges of $G$ that are unoccupied (and so are not part of $O_T$), and from the nodes that are not incident on any of these edges. $B_T$ forms the base network for the nested application of NZ, and we progressively occupy edges from $B_T$ to form the **residual occupied network** $R_{T'}$, where $T'$ denotes the occupation probability of edges in the residual network.\n",
    "\n",
    "Each edge in $B_T$ falls into one of two classes:\n",
    "\n",
    "1. It has both endpoints in $B_T$; or\n",
    "2. It has one endpoint in $B_T$ and one endpoint in $O_T$.\n",
    "\n",
    "Edges in the second class form the **boundary** (to take a topological perspective) of $O_T$. They cannot be occupied by NZ operating over $B_T$, since to do so would connect $R_{T'}$ to the GCC of the primary percolation process, $O_T$. ENZ therefore ignores any edge falling into the boundary, and occupies only non-boundary edges."
   ]
  },
  {
   "cell_type": "code",
   "execution_count": 9,
   "id": "broad-penetration",
   "metadata": {},
   "outputs": [],
   "source": [
    "class ResidualBondPercolation(NewmanZiff):\n",
    "\n",
    "    # Experimental results\n",
    "    P_RESIDUAL_STEM : Final[str] = 'epydemic.residualbondpercolation.pOccupied'\n",
    "    DEPTH_RESIDUAL : Final[str] = 'epydemic.residualbondpercolation.depth'\n",
    "    N_RESIDUAL : Final[str] = 'epydemic.residualbondpercolation.N'\n",
    "    M_RESIDUAL : Final[str] = 'epydemic.residualbondpercolation.M'\n",
    "    GCC_RESIDUAL : Final[str] = 'epydemic.residualbondpercolation.gcc'\n",
    "        \n",
    "    @classmethod\n",
    "    def P_RESIDUAL(cls, depth : int) -> str:\n",
    "        '''Return the experimental result corresponding to the occupation probability\n",
    "        at the given depth: 0 for the primary network, 1 for the first residual network,\n",
    "        and so on.\n",
    "        \n",
    "        :param residual: the network depth\n",
    "        :returns: the experimental result tag'''\n",
    "        return '{stem}-{l}'.format(stem=cls.P_RESIDUAL_STEM, l=depth)\n",
    "    \n",
    "    def __init__(self, g : Graph =None, samples : Union[int, Iterable[float]] =None, residuals =1):\n",
    "        super(ResidualBondPercolation, self).__init__(g, samples)\n",
    "        self._residuals = residuals\n",
    "    \n",
    "    def setUp(self, params : Dict[str, Any]):\n",
    "        super(ResidualBondPercolation, self).setUp(params)\n",
    "        self._networkIndex = 0\n",
    "        self._parent = 0\n",
    "        self._phis = dict()\n",
    "        self._gcc = 1   # initially all nodes are individual components, unconnected by occupied edges\n",
    "        \n",
    "        # all nodes are singleton components in the primary network\n",
    "        N = self.network().order()\n",
    "        self._components = numpy.full(N, -1, numpy.int32)\n",
    "        self._networks = numpy.full(N, 1, numpy.int16)\n",
    "        \n",
    "    def rootOf(self, n : Node, network : int) -> Optional[Node]:\n",
    "        np = self._components[n]\n",
    "        nn = self._networks[n]\n",
    "        \n",
    "        # for a node to be available to this percolation process it has\n",
    "        # to be one of:\n",
    "        # - an unoccupied element of the base network 0\n",
    "        # - an occupied element of the network we're currently building\n",
    "        # - an element of a network that's later than out parent network\n",
    "        # These last two conditions overlap (we're later than our parent too),\n",
    "        # but in the third case the node is treated as an unoccupied singleton\n",
    "        # and not as a member of a component.\n",
    "        \n",
    "        if np == -1:\n",
    "            # node is an unoccupied singleton, move it to our network and return it\n",
    "            self._networks[n] = network\n",
    "            return n\n",
    "        elif nn == network:\n",
    "            # node is in our network, use it\n",
    "            if np < 0:\n",
    "                # node is a component root, return it\n",
    "                return n\n",
    "            else:\n",
    "                # node is an interior node of a component, track it to the root\n",
    "                r = self.rootOf(np, network)\n",
    "                #assert(r is not None)\n",
    "                #assert(self._networks[r] == self._networks[n])\n",
    "                \n",
    "                # short-cut to the root\n",
    "                self._components[n] = r\n",
    "                \n",
    "                # return the root\n",
    "                return r\n",
    "        elif nn > self._parent:\n",
    "            # node is in another available network, reset it as a singleton in ours and return\n",
    "            self._components[n] = -1\n",
    "            self._networks[n] = network\n",
    "            return n\n",
    "        else:\n",
    "            # node is in a network inaccessible to us, ignore\n",
    "            return None\n",
    "\n",
    "    def orderOfNetwork(self, network : int) -> int:\n",
    "        if network < 1:\n",
    "            return 0\n",
    "        else:\n",
    "            return numpy.count_nonzero(self._networks == network)\n",
    "\n",
    "    def occupy(self, n : Node, m : Node, network) -> Optional[int]:\n",
    "        nr = self.rootOf(n, network)\n",
    "        mr = self.rootOf(m, network)\n",
    "        if nr is None or mr is None:\n",
    "            # not a node in the right network, ignore\n",
    "            return None\n",
    "        elif mr != nr:\n",
    "            # nodes are in different components in this network, join them together\n",
    "            #assert(self._networks[nr] == self._networks[mr])\n",
    "            return self.join(nr, mr)\n",
    "        else:\n",
    "            # nodes are in the same component, do nothing\n",
    "            #assert(self._networks[nr] == self._networks[mr])\n",
    "            return None\n",
    "        \n",
    "    def join(self, c1 : Node, c2 : Node) -> int:\n",
    "        # extract the sizes of the compoents\n",
    "        c1size = -self._components[c1]\n",
    "        c2size = -self._components[c2]\n",
    "        \n",
    "        # join the second component to the first \n",
    "        self._components[c2] = c1\n",
    "        \n",
    "        # update the size of the first component\n",
    "        self._components[c1] -= c2size\n",
    "        \n",
    "        # update the running GCC size\n",
    "        csize = c1size + c2size\n",
    "        self._gcc = max(self._gcc, csize)\n",
    "        \n",
    "        # return the size of the new component\n",
    "        return csize\n",
    "\n",
    "    def sample(self, p, es, nexti, N, M, depth, network):\n",
    "        samples = []\n",
    "        \n",
    "        # take the sample at this point\n",
    "        phi = ResidualBondPercolation.P_RESIDUAL(depth)\n",
    "        res = self._phis.copy()\n",
    "        res[self.DEPTH_RESIDUAL] = depth\n",
    "        res[self.N_RESIDUAL] = N\n",
    "        res[self.M_RESIDUAL] = M\n",
    "        res[phi] = p\n",
    "        res[self.GCC_RESIDUAL] = self._gcc\n",
    "        samples.append(res)\n",
    "        \n",
    "        # if we're re-percolating, do that to get more samples\n",
    "        if depth < self._residuals:\n",
    "            es_residual = es[nexti:]\n",
    "            samples.extend(self.repercolate(p, es_residual, depth, network))\n",
    "        \n",
    "        return samples\n",
    "\n",
    "    def repercolate(self, p, es, depth, network):\n",
    "        phi = ResidualBondPercolation.P_RESIDUAL(depth)\n",
    "        self._phis[phi] = p\n",
    "        oldparent = self._parent\n",
    "        oldgcc = self._gcc\n",
    "        self._parent = network\n",
    "        self._gcc = 1\n",
    "        ss = self.percolate(es, depth + 1)\n",
    "        del self._phis[phi]\n",
    "        self._gcc = oldgcc\n",
    "        self._parent = oldparent        \n",
    "        return ss\n",
    "        \n",
    "    def percolate(self, es, depth):\n",
    "        N = self.network().order() - self.orderOfNetwork(self._parent)\n",
    "        M = len(es)\n",
    "        self._networkIndex += 1\n",
    "        network = self._networkIndex\n",
    "        samples = []\n",
    "        samplePoint = 0\n",
    "\n",
    "        # take an initial sample if requested\n",
    "        if self._samples[samplePoint] == 0.0:\n",
    "            samples.extend(self.sample(self._samples[samplePoint], es, 0, N, M, depth, network))\n",
    "            samplePoint += 1\n",
    "            \n",
    "        # percolate the network\n",
    "        for i in range(M):\n",
    "            # if we've collected all the samples we want, bail out\n",
    "            if samplePoint >= len(self._samples):\n",
    "                break\n",
    "                    \n",
    "            # occupy the edge\n",
    "            (n, m) = es[i]\n",
    "            csize = self.occupy(n, m, network)\n",
    "\n",
    "            # take a sample if this is a sample point\n",
    "            if  (i + 1) / M >= self._samples[samplePoint]:\n",
    "                # we're at the closest probability after the requested sample point,\n",
    "                # so build the sample\n",
    "                samples.extend(self.sample(self._samples[samplePoint], es, i + 1, N, M, depth, network))\n",
    "                samplePoint += 1\n",
    "                    \n",
    "        return samples\n",
    "\n",
    "    def do(self, params : Dict[str, Any]) -> List[Dict[str, Any]]:\n",
    "        '''Perform the bond percolation process.\n",
    "\n",
    "        :param params: experimental parameters\n",
    "        :returns: a list of dicts of experimental results'''      \n",
    "        # extract and shuffle the edges\n",
    "        g = self.network()\n",
    "        es = list(g.edges()).copy()\n",
    "        numpy.random.shuffle(es)\n",
    "        return self.percolate(es, 0)"
   ]
  },
  {
   "cell_type": "markdown",
   "id": "appointed-monitoring",
   "metadata": {},
   "source": [
    "We may now run a resiodual percolation experiment by percolating the base network and, for 50 sample points, percolating the residual network at that point, with the residual network also being sampled at 50 points. This results in a nested dataset consisting of the GCC measurement for 50 values of $T$ (the percolation probability in the primary network) and, for each of these, another sequence of 50 GCC measurements for the residual networks."
   ]
  },
  {
   "cell_type": "code",
   "execution_count": 10,
   "id": "prepared-earth",
   "metadata": {},
   "outputs": [],
   "source": [
    "lab = Lab()\n",
    "for k in params:\n",
    "    lab[k] = params[k]\n",
    "e = ResidualBondPercolation(g, samples=50)\n",
    "lab.runExperiment(e)"
   ]
  },
  {
   "cell_type": "code",
   "execution_count": 11,
   "id": "alternative-effort",
   "metadata": {},
   "outputs": [],
   "source": [
    "df = lab.dataframe()"
   ]
  },
  {
   "cell_type": "code",
   "execution_count": 12,
   "id": "streaming-madrid",
   "metadata": {},
   "outputs": [],
   "source": [
    "ps = df[ResidualBondPercolation.P_RESIDUAL(0)].unique()"
   ]
  },
  {
   "cell_type": "markdown",
   "id": "amateur-metallic",
   "metadata": {},
   "source": [
    "We may use this datset to plot the size of the GCC in the primary network, and compare it to the size of the GCC in the corresponding residual network. "
   ]
  },
  {
   "cell_type": "code",
   "execution_count": 13,
   "id": "vital-stations",
   "metadata": {},
   "outputs": [
    {
     "data": {
      "application/vnd.plotly.v1+json": {
       "config": {
        "plotlyServerURL": "https://plot.ly"
       },
       "data": [
        {
         "marker": {
          "color": "green"
         },
         "mode": "lines",
         "name": "Primary network",
         "type": "scatter",
         "x": [
          0,
          0.02040816326530612,
          0.04081632653061224,
          0.061224489795918366,
          0.08163265306122448,
          0.1020408163265306,
          0.12244897959183673,
          0.14285714285714285,
          0.16326530612244897,
          0.18367346938775508,
          0.2040816326530612,
          0.22448979591836732,
          0.24489795918367346,
          0.26530612244897955,
          0.2857142857142857,
          0.3061224489795918,
          0.32653061224489793,
          0.3469387755102041,
          0.36734693877551017,
          0.3877551020408163,
          0.4081632653061224,
          0.42857142857142855,
          0.44897959183673464,
          0.4693877551020408,
          0.4897959183673469,
          0.5102040816326531,
          0.5306122448979591,
          0.5510204081632653,
          0.5714285714285714,
          0.5918367346938775,
          0.6122448979591836,
          0.6326530612244897,
          0.6530612244897959,
          0.673469387755102,
          0.6938775510204082,
          0.7142857142857142,
          0.7346938775510203,
          0.7551020408163265,
          0.7755102040816326,
          0.7959183673469387,
          0.8163265306122448,
          0.836734693877551,
          0.8571428571428571,
          0.8775510204081632,
          0.8979591836734693,
          0.9183673469387754,
          0.9387755102040816,
          0.9591836734693877,
          0.9795918367346939,
          1
         ],
         "y": [
          1,
          4,
          5,
          5,
          7,
          9,
          13,
          15,
          21,
          23,
          23,
          25,
          27,
          29,
          48,
          58,
          73,
          79,
          167,
          183,
          199,
          361,
          393,
          432,
          493,
          695,
          806,
          876,
          1060,
          1171,
          1301,
          1519,
          1573,
          1770,
          1901,
          2051,
          2172,
          2271,
          2360,
          2557,
          2673,
          2781,
          2973,
          3150,
          3308,
          3548,
          3699,
          3842,
          3975,
          4121
         ]
        },
        {
         "marker": {
          "color": "blue"
         },
         "mode": "lines",
         "name": "Residual network at T=0.04",
         "type": "scatter",
         "x": [
          0,
          0.02040816326530612,
          0.04081632653061224,
          0.061224489795918366,
          0.08163265306122448,
          0.1020408163265306,
          0.12244897959183673,
          0.14285714285714285,
          0.16326530612244897,
          0.18367346938775508,
          0.2040816326530612,
          0.22448979591836732,
          0.24489795918367346,
          0.26530612244897955,
          0.2857142857142857,
          0.3061224489795918,
          0.32653061224489793,
          0.3469387755102041,
          0.36734693877551017,
          0.3877551020408163,
          0.4081632653061224,
          0.42857142857142855,
          0.44897959183673464,
          0.4693877551020408,
          0.4897959183673469,
          0.5102040816326531,
          0.5306122448979591,
          0.5510204081632653,
          0.5714285714285714,
          0.5918367346938775,
          0.6122448979591836,
          0.6326530612244897,
          0.6530612244897959,
          0.673469387755102,
          0.6938775510204082,
          0.7142857142857142,
          0.7346938775510203,
          0.7551020408163265,
          0.7755102040816326,
          0.7959183673469387,
          0.8163265306122448,
          0.836734693877551,
          0.8571428571428571,
          0.8775510204081632,
          0.8979591836734693,
          0.9183673469387754,
          0.9387755102040816,
          0.9591836734693877,
          0.9795918367346939,
          1
         ],
         "y": [
          1,
          3,
          6,
          6,
          6,
          10,
          12,
          12,
          12,
          13,
          14,
          21,
          21,
          21,
          25,
          28,
          28,
          32,
          33,
          33,
          35,
          38,
          41,
          52,
          54,
          55,
          109,
          111,
          173,
          193,
          199,
          209,
          476,
          552,
          569,
          585,
          631,
          649,
          739,
          858,
          960,
          1067,
          1116,
          1407,
          1583,
          1672,
          1740,
          1827,
          1898,
          2132
         ]
        }
       ],
       "layout": {
        "height": 700,
        "template": {
         "data": {
          "bar": [
           {
            "error_x": {
             "color": "#2a3f5f"
            },
            "error_y": {
             "color": "#2a3f5f"
            },
            "marker": {
             "line": {
              "color": "#E5ECF6",
              "width": 0.5
             }
            },
            "type": "bar"
           }
          ],
          "barpolar": [
           {
            "marker": {
             "line": {
              "color": "#E5ECF6",
              "width": 0.5
             }
            },
            "type": "barpolar"
           }
          ],
          "carpet": [
           {
            "aaxis": {
             "endlinecolor": "#2a3f5f",
             "gridcolor": "white",
             "linecolor": "white",
             "minorgridcolor": "white",
             "startlinecolor": "#2a3f5f"
            },
            "baxis": {
             "endlinecolor": "#2a3f5f",
             "gridcolor": "white",
             "linecolor": "white",
             "minorgridcolor": "white",
             "startlinecolor": "#2a3f5f"
            },
            "type": "carpet"
           }
          ],
          "choropleth": [
           {
            "colorbar": {
             "outlinewidth": 0,
             "ticks": ""
            },
            "type": "choropleth"
           }
          ],
          "contour": [
           {
            "colorbar": {
             "outlinewidth": 0,
             "ticks": ""
            },
            "colorscale": [
             [
              0,
              "#0d0887"
             ],
             [
              0.1111111111111111,
              "#46039f"
             ],
             [
              0.2222222222222222,
              "#7201a8"
             ],
             [
              0.3333333333333333,
              "#9c179e"
             ],
             [
              0.4444444444444444,
              "#bd3786"
             ],
             [
              0.5555555555555556,
              "#d8576b"
             ],
             [
              0.6666666666666666,
              "#ed7953"
             ],
             [
              0.7777777777777778,
              "#fb9f3a"
             ],
             [
              0.8888888888888888,
              "#fdca26"
             ],
             [
              1,
              "#f0f921"
             ]
            ],
            "type": "contour"
           }
          ],
          "contourcarpet": [
           {
            "colorbar": {
             "outlinewidth": 0,
             "ticks": ""
            },
            "type": "contourcarpet"
           }
          ],
          "heatmap": [
           {
            "colorbar": {
             "outlinewidth": 0,
             "ticks": ""
            },
            "colorscale": [
             [
              0,
              "#0d0887"
             ],
             [
              0.1111111111111111,
              "#46039f"
             ],
             [
              0.2222222222222222,
              "#7201a8"
             ],
             [
              0.3333333333333333,
              "#9c179e"
             ],
             [
              0.4444444444444444,
              "#bd3786"
             ],
             [
              0.5555555555555556,
              "#d8576b"
             ],
             [
              0.6666666666666666,
              "#ed7953"
             ],
             [
              0.7777777777777778,
              "#fb9f3a"
             ],
             [
              0.8888888888888888,
              "#fdca26"
             ],
             [
              1,
              "#f0f921"
             ]
            ],
            "type": "heatmap"
           }
          ],
          "heatmapgl": [
           {
            "colorbar": {
             "outlinewidth": 0,
             "ticks": ""
            },
            "colorscale": [
             [
              0,
              "#0d0887"
             ],
             [
              0.1111111111111111,
              "#46039f"
             ],
             [
              0.2222222222222222,
              "#7201a8"
             ],
             [
              0.3333333333333333,
              "#9c179e"
             ],
             [
              0.4444444444444444,
              "#bd3786"
             ],
             [
              0.5555555555555556,
              "#d8576b"
             ],
             [
              0.6666666666666666,
              "#ed7953"
             ],
             [
              0.7777777777777778,
              "#fb9f3a"
             ],
             [
              0.8888888888888888,
              "#fdca26"
             ],
             [
              1,
              "#f0f921"
             ]
            ],
            "type": "heatmapgl"
           }
          ],
          "histogram": [
           {
            "marker": {
             "colorbar": {
              "outlinewidth": 0,
              "ticks": ""
             }
            },
            "type": "histogram"
           }
          ],
          "histogram2d": [
           {
            "colorbar": {
             "outlinewidth": 0,
             "ticks": ""
            },
            "colorscale": [
             [
              0,
              "#0d0887"
             ],
             [
              0.1111111111111111,
              "#46039f"
             ],
             [
              0.2222222222222222,
              "#7201a8"
             ],
             [
              0.3333333333333333,
              "#9c179e"
             ],
             [
              0.4444444444444444,
              "#bd3786"
             ],
             [
              0.5555555555555556,
              "#d8576b"
             ],
             [
              0.6666666666666666,
              "#ed7953"
             ],
             [
              0.7777777777777778,
              "#fb9f3a"
             ],
             [
              0.8888888888888888,
              "#fdca26"
             ],
             [
              1,
              "#f0f921"
             ]
            ],
            "type": "histogram2d"
           }
          ],
          "histogram2dcontour": [
           {
            "colorbar": {
             "outlinewidth": 0,
             "ticks": ""
            },
            "colorscale": [
             [
              0,
              "#0d0887"
             ],
             [
              0.1111111111111111,
              "#46039f"
             ],
             [
              0.2222222222222222,
              "#7201a8"
             ],
             [
              0.3333333333333333,
              "#9c179e"
             ],
             [
              0.4444444444444444,
              "#bd3786"
             ],
             [
              0.5555555555555556,
              "#d8576b"
             ],
             [
              0.6666666666666666,
              "#ed7953"
             ],
             [
              0.7777777777777778,
              "#fb9f3a"
             ],
             [
              0.8888888888888888,
              "#fdca26"
             ],
             [
              1,
              "#f0f921"
             ]
            ],
            "type": "histogram2dcontour"
           }
          ],
          "mesh3d": [
           {
            "colorbar": {
             "outlinewidth": 0,
             "ticks": ""
            },
            "type": "mesh3d"
           }
          ],
          "parcoords": [
           {
            "line": {
             "colorbar": {
              "outlinewidth": 0,
              "ticks": ""
             }
            },
            "type": "parcoords"
           }
          ],
          "pie": [
           {
            "automargin": true,
            "type": "pie"
           }
          ],
          "scatter": [
           {
            "marker": {
             "colorbar": {
              "outlinewidth": 0,
              "ticks": ""
             }
            },
            "type": "scatter"
           }
          ],
          "scatter3d": [
           {
            "line": {
             "colorbar": {
              "outlinewidth": 0,
              "ticks": ""
             }
            },
            "marker": {
             "colorbar": {
              "outlinewidth": 0,
              "ticks": ""
             }
            },
            "type": "scatter3d"
           }
          ],
          "scattercarpet": [
           {
            "marker": {
             "colorbar": {
              "outlinewidth": 0,
              "ticks": ""
             }
            },
            "type": "scattercarpet"
           }
          ],
          "scattergeo": [
           {
            "marker": {
             "colorbar": {
              "outlinewidth": 0,
              "ticks": ""
             }
            },
            "type": "scattergeo"
           }
          ],
          "scattergl": [
           {
            "marker": {
             "colorbar": {
              "outlinewidth": 0,
              "ticks": ""
             }
            },
            "type": "scattergl"
           }
          ],
          "scattermapbox": [
           {
            "marker": {
             "colorbar": {
              "outlinewidth": 0,
              "ticks": ""
             }
            },
            "type": "scattermapbox"
           }
          ],
          "scatterpolar": [
           {
            "marker": {
             "colorbar": {
              "outlinewidth": 0,
              "ticks": ""
             }
            },
            "type": "scatterpolar"
           }
          ],
          "scatterpolargl": [
           {
            "marker": {
             "colorbar": {
              "outlinewidth": 0,
              "ticks": ""
             }
            },
            "type": "scatterpolargl"
           }
          ],
          "scatterternary": [
           {
            "marker": {
             "colorbar": {
              "outlinewidth": 0,
              "ticks": ""
             }
            },
            "type": "scatterternary"
           }
          ],
          "surface": [
           {
            "colorbar": {
             "outlinewidth": 0,
             "ticks": ""
            },
            "colorscale": [
             [
              0,
              "#0d0887"
             ],
             [
              0.1111111111111111,
              "#46039f"
             ],
             [
              0.2222222222222222,
              "#7201a8"
             ],
             [
              0.3333333333333333,
              "#9c179e"
             ],
             [
              0.4444444444444444,
              "#bd3786"
             ],
             [
              0.5555555555555556,
              "#d8576b"
             ],
             [
              0.6666666666666666,
              "#ed7953"
             ],
             [
              0.7777777777777778,
              "#fb9f3a"
             ],
             [
              0.8888888888888888,
              "#fdca26"
             ],
             [
              1,
              "#f0f921"
             ]
            ],
            "type": "surface"
           }
          ],
          "table": [
           {
            "cells": {
             "fill": {
              "color": "#EBF0F8"
             },
             "line": {
              "color": "white"
             }
            },
            "header": {
             "fill": {
              "color": "#C8D4E3"
             },
             "line": {
              "color": "white"
             }
            },
            "type": "table"
           }
          ]
         },
         "layout": {
          "annotationdefaults": {
           "arrowcolor": "#2a3f5f",
           "arrowhead": 0,
           "arrowwidth": 1
          },
          "autotypenumbers": "strict",
          "coloraxis": {
           "colorbar": {
            "outlinewidth": 0,
            "ticks": ""
           }
          },
          "colorscale": {
           "diverging": [
            [
             0,
             "#8e0152"
            ],
            [
             0.1,
             "#c51b7d"
            ],
            [
             0.2,
             "#de77ae"
            ],
            [
             0.3,
             "#f1b6da"
            ],
            [
             0.4,
             "#fde0ef"
            ],
            [
             0.5,
             "#f7f7f7"
            ],
            [
             0.6,
             "#e6f5d0"
            ],
            [
             0.7,
             "#b8e186"
            ],
            [
             0.8,
             "#7fbc41"
            ],
            [
             0.9,
             "#4d9221"
            ],
            [
             1,
             "#276419"
            ]
           ],
           "sequential": [
            [
             0,
             "#0d0887"
            ],
            [
             0.1111111111111111,
             "#46039f"
            ],
            [
             0.2222222222222222,
             "#7201a8"
            ],
            [
             0.3333333333333333,
             "#9c179e"
            ],
            [
             0.4444444444444444,
             "#bd3786"
            ],
            [
             0.5555555555555556,
             "#d8576b"
            ],
            [
             0.6666666666666666,
             "#ed7953"
            ],
            [
             0.7777777777777778,
             "#fb9f3a"
            ],
            [
             0.8888888888888888,
             "#fdca26"
            ],
            [
             1,
             "#f0f921"
            ]
           ],
           "sequentialminus": [
            [
             0,
             "#0d0887"
            ],
            [
             0.1111111111111111,
             "#46039f"
            ],
            [
             0.2222222222222222,
             "#7201a8"
            ],
            [
             0.3333333333333333,
             "#9c179e"
            ],
            [
             0.4444444444444444,
             "#bd3786"
            ],
            [
             0.5555555555555556,
             "#d8576b"
            ],
            [
             0.6666666666666666,
             "#ed7953"
            ],
            [
             0.7777777777777778,
             "#fb9f3a"
            ],
            [
             0.8888888888888888,
             "#fdca26"
            ],
            [
             1,
             "#f0f921"
            ]
           ]
          },
          "colorway": [
           "#636efa",
           "#EF553B",
           "#00cc96",
           "#ab63fa",
           "#FFA15A",
           "#19d3f3",
           "#FF6692",
           "#B6E880",
           "#FF97FF",
           "#FECB52"
          ],
          "font": {
           "color": "#2a3f5f"
          },
          "geo": {
           "bgcolor": "white",
           "lakecolor": "white",
           "landcolor": "#E5ECF6",
           "showlakes": true,
           "showland": true,
           "subunitcolor": "white"
          },
          "hoverlabel": {
           "align": "left"
          },
          "hovermode": "closest",
          "mapbox": {
           "style": "light"
          },
          "paper_bgcolor": "white",
          "plot_bgcolor": "#E5ECF6",
          "polar": {
           "angularaxis": {
            "gridcolor": "white",
            "linecolor": "white",
            "ticks": ""
           },
           "bgcolor": "#E5ECF6",
           "radialaxis": {
            "gridcolor": "white",
            "linecolor": "white",
            "ticks": ""
           }
          },
          "scene": {
           "xaxis": {
            "backgroundcolor": "#E5ECF6",
            "gridcolor": "white",
            "gridwidth": 2,
            "linecolor": "white",
            "showbackground": true,
            "ticks": "",
            "zerolinecolor": "white"
           },
           "yaxis": {
            "backgroundcolor": "#E5ECF6",
            "gridcolor": "white",
            "gridwidth": 2,
            "linecolor": "white",
            "showbackground": true,
            "ticks": "",
            "zerolinecolor": "white"
           },
           "zaxis": {
            "backgroundcolor": "#E5ECF6",
            "gridcolor": "white",
            "gridwidth": 2,
            "linecolor": "white",
            "showbackground": true,
            "ticks": "",
            "zerolinecolor": "white"
           }
          },
          "shapedefaults": {
           "line": {
            "color": "#2a3f5f"
           }
          },
          "ternary": {
           "aaxis": {
            "gridcolor": "white",
            "linecolor": "white",
            "ticks": ""
           },
           "baxis": {
            "gridcolor": "white",
            "linecolor": "white",
            "ticks": ""
           },
           "bgcolor": "#E5ECF6",
           "caxis": {
            "gridcolor": "white",
            "linecolor": "white",
            "ticks": ""
           }
          },
          "title": {
           "x": 0.05
          },
          "xaxis": {
           "automargin": true,
           "gridcolor": "white",
           "linecolor": "white",
           "ticks": "",
           "title": {
            "standoff": 15
           },
           "zerolinecolor": "white",
           "zerolinewidth": 2
          },
          "yaxis": {
           "automargin": true,
           "gridcolor": "white",
           "linecolor": "white",
           "ticks": "",
           "title": {
            "standoff": 15
           },
           "zerolinecolor": "white",
           "zerolinewidth": 2
          }
         }
        },
        "title": {
         "text": "Bond percolation on PLC network (N=10000, exponent=2.5, cutoff=20)"
        },
        "width": 700,
        "xaxis": {
         "autorange": true,
         "range": [
          0,
          1
         ],
         "title": {
          "text": "occupation probability"
         },
         "type": "linear"
        },
        "yaxis": {
         "autorange": true,
         "range": [
          -227.8888888888889,
          4349.888888888889
         ],
         "title": {
          "text": "size of giant component"
         },
         "type": "linear"
        }
       }
      },
      "image/png": "[encoded data removed]",
      "text/html": [
       "<div>                            <div id=\"aca2005e-15f9-4094-9c9b-e623db836002\" class=\"plotly-graph-div\" style=\"height:700px; width:700px;\"></div>            <script type=\"text/javascript\">                require([\"plotly\"], function(Plotly) {                    window.PLOTLYENV=window.PLOTLYENV || {};                                    if (document.getElementById(\"aca2005e-15f9-4094-9c9b-e623db836002\")) {                    Plotly.newPlot(                        \"aca2005e-15f9-4094-9c9b-e623db836002\",                        [{\"marker\": {\"color\": \"green\"}, \"mode\": \"lines\", \"name\": \"Primary network\", \"type\": \"scatter\", \"x\": [0.0, 0.02040816326530612, 0.04081632653061224, 0.061224489795918366, 0.08163265306122448, 0.1020408163265306, 0.12244897959183673, 0.14285714285714285, 0.16326530612244897, 0.18367346938775508, 0.2040816326530612, 0.22448979591836732, 0.24489795918367346, 0.26530612244897955, 0.2857142857142857, 0.3061224489795918, 0.32653061224489793, 0.3469387755102041, 0.36734693877551017, 0.3877551020408163, 0.4081632653061224, 0.42857142857142855, 0.44897959183673464, 0.4693877551020408, 0.4897959183673469, 0.5102040816326531, 0.5306122448979591, 0.5510204081632653, 0.5714285714285714, 0.5918367346938775, 0.6122448979591836, 0.6326530612244897, 0.6530612244897959, 0.673469387755102, 0.6938775510204082, 0.7142857142857142, 0.7346938775510203, 0.7551020408163265, 0.7755102040816326, 0.7959183673469387, 0.8163265306122448, 0.836734693877551, 0.8571428571428571, 0.8775510204081632, 0.8979591836734693, 0.9183673469387754, 0.9387755102040816, 0.9591836734693877, 0.9795918367346939, 1.0], \"y\": [1, 4, 5, 5, 7, 9, 13, 15, 21, 23, 23, 25, 27, 29, 48, 58, 73, 79, 167, 183, 199, 361, 393, 432, 493, 695, 806, 876, 1060, 1171, 1301, 1519, 1573, 1770, 1901, 2051, 2172, 2271, 2360, 2557, 2673, 2781, 2973, 3150, 3308, 3548, 3699, 3842, 3975, 4121]}, {\"marker\": {\"color\": \"blue\"}, \"mode\": \"lines\", \"name\": \"Residual network at T=0.04\", \"type\": \"scatter\", \"x\": [0.0, 0.02040816326530612, 0.04081632653061224, 0.061224489795918366, 0.08163265306122448, 0.1020408163265306, 0.12244897959183673, 0.14285714285714285, 0.16326530612244897, 0.18367346938775508, 0.2040816326530612, 0.22448979591836732, 0.24489795918367346, 0.26530612244897955, 0.2857142857142857, 0.3061224489795918, 0.32653061224489793, 0.3469387755102041, 0.36734693877551017, 0.3877551020408163, 0.4081632653061224, 0.42857142857142855, 0.44897959183673464, 0.4693877551020408, 0.4897959183673469, 0.5102040816326531, 0.5306122448979591, 0.5510204081632653, 0.5714285714285714, 0.5918367346938775, 0.6122448979591836, 0.6326530612244897, 0.6530612244897959, 0.673469387755102, 0.6938775510204082, 0.7142857142857142, 0.7346938775510203, 0.7551020408163265, 0.7755102040816326, 0.7959183673469387, 0.8163265306122448, 0.836734693877551, 0.8571428571428571, 0.8775510204081632, 0.8979591836734693, 0.9183673469387754, 0.9387755102040816, 0.9591836734693877, 0.9795918367346939, 1.0], \"y\": [1, 3, 6, 6, 6, 10, 12, 12, 12, 13, 14, 21, 21, 21, 25, 28, 28, 32, 33, 33, 35, 38, 41, 52, 54, 55, 109, 111, 173, 193, 199, 209, 476, 552, 569, 585, 631, 649, 739, 858, 960, 1067, 1116, 1407, 1583, 1672, 1740, 1827, 1898, 2132]}],                        {\"height\": 700, \"template\": {\"data\": {\"bar\": [{\"error_x\": {\"color\": \"#2a3f5f\"}, \"error_y\": {\"color\": \"#2a3f5f\"}, \"marker\": {\"line\": {\"color\": \"#E5ECF6\", \"width\": 0.5}}, \"type\": \"bar\"}], \"barpolar\": [{\"marker\": {\"line\": {\"color\": \"#E5ECF6\", \"width\": 0.5}}, \"type\": \"barpolar\"}], \"carpet\": [{\"aaxis\": {\"endlinecolor\": \"#2a3f5f\", \"gridcolor\": \"white\", \"linecolor\": \"white\", \"minorgridcolor\": \"white\", \"startlinecolor\": \"#2a3f5f\"}, \"baxis\": {\"endlinecolor\": \"#2a3f5f\", \"gridcolor\": \"white\", \"linecolor\": \"white\", \"minorgridcolor\": \"white\", \"startlinecolor\": \"#2a3f5f\"}, \"type\": \"carpet\"}], \"choropleth\": [{\"colorbar\": {\"outlinewidth\": 0, \"ticks\": \"\"}, \"type\": \"choropleth\"}], \"contour\": [{\"colorbar\": {\"outlinewidth\": 0, \"ticks\": \"\"}, \"colorscale\": [[0.0, \"#0d0887\"], [0.1111111111111111, \"#46039f\"], [0.2222222222222222, \"#7201a8\"], [0.3333333333333333, \"#9c179e\"], [0.4444444444444444, \"#bd3786\"], [0.5555555555555556, \"#d8576b\"], [0.6666666666666666, \"#ed7953\"], [0.7777777777777778, \"#fb9f3a\"], [0.8888888888888888, \"#fdca26\"], [1.0, \"#f0f921\"]], \"type\": \"contour\"}], \"contourcarpet\": [{\"colorbar\": {\"outlinewidth\": 0, \"ticks\": \"\"}, \"type\": \"contourcarpet\"}], \"heatmap\": [{\"colorbar\": {\"outlinewidth\": 0, \"ticks\": \"\"}, \"colorscale\": [[0.0, \"#0d0887\"], [0.1111111111111111, \"#46039f\"], [0.2222222222222222, \"#7201a8\"], [0.3333333333333333, \"#9c179e\"], [0.4444444444444444, \"#bd3786\"], [0.5555555555555556, \"#d8576b\"], [0.6666666666666666, \"#ed7953\"], [0.7777777777777778, \"#fb9f3a\"], [0.8888888888888888, \"#fdca26\"], [1.0, \"#f0f921\"]], \"type\": \"heatmap\"}], \"heatmapgl\": [{\"colorbar\": {\"outlinewidth\": 0, \"ticks\": \"\"}, \"colorscale\": [[0.0, \"#0d0887\"], [0.1111111111111111, \"#46039f\"], [0.2222222222222222, \"#7201a8\"], [0.3333333333333333, \"#9c179e\"], [0.4444444444444444, \"#bd3786\"], [0.5555555555555556, \"#d8576b\"], [0.6666666666666666, \"#ed7953\"], [0.7777777777777778, \"#fb9f3a\"], [0.8888888888888888, \"#fdca26\"], [1.0, \"#f0f921\"]], \"type\": \"heatmapgl\"}], \"histogram\": [{\"marker\": {\"colorbar\": {\"outlinewidth\": 0, \"ticks\": \"\"}}, \"type\": \"histogram\"}], \"histogram2d\": [{\"colorbar\": {\"outlinewidth\": 0, \"ticks\": \"\"}, \"colorscale\": [[0.0, \"#0d0887\"], [0.1111111111111111, \"#46039f\"], [0.2222222222222222, \"#7201a8\"], [0.3333333333333333, \"#9c179e\"], [0.4444444444444444, \"#bd3786\"], [0.5555555555555556, \"#d8576b\"], [0.6666666666666666, \"#ed7953\"], [0.7777777777777778, \"#fb9f3a\"], [0.8888888888888888, \"#fdca26\"], [1.0, \"#f0f921\"]], \"type\": \"histogram2d\"}], \"histogram2dcontour\": [{\"colorbar\": {\"outlinewidth\": 0, \"ticks\": \"\"}, \"colorscale\": [[0.0, \"#0d0887\"], [0.1111111111111111, \"#46039f\"], [0.2222222222222222, \"#7201a8\"], [0.3333333333333333, \"#9c179e\"], [0.4444444444444444, \"#bd3786\"], [0.5555555555555556, \"#d8576b\"], [0.6666666666666666, \"#ed7953\"], [0.7777777777777778, \"#fb9f3a\"], [0.8888888888888888, \"#fdca26\"], [1.0, \"#f0f921\"]], \"type\": \"histogram2dcontour\"}], \"mesh3d\": [{\"colorbar\": {\"outlinewidth\": 0, \"ticks\": \"\"}, \"type\": \"mesh3d\"}], \"parcoords\": [{\"line\": {\"colorbar\": {\"outlinewidth\": 0, \"ticks\": \"\"}}, \"type\": \"parcoords\"}], \"pie\": [{\"automargin\": true, \"type\": \"pie\"}], \"scatter\": [{\"marker\": {\"colorbar\": {\"outlinewidth\": 0, \"ticks\": \"\"}}, \"type\": \"scatter\"}], \"scatter3d\": [{\"line\": {\"colorbar\": {\"outlinewidth\": 0, \"ticks\": \"\"}}, \"marker\": {\"colorbar\": {\"outlinewidth\": 0, \"ticks\": \"\"}}, \"type\": \"scatter3d\"}], \"scattercarpet\": [{\"marker\": {\"colorbar\": {\"outlinewidth\": 0, \"ticks\": \"\"}}, \"type\": \"scattercarpet\"}], \"scattergeo\": [{\"marker\": {\"colorbar\": {\"outlinewidth\": 0, \"ticks\": \"\"}}, \"type\": \"scattergeo\"}], \"scattergl\": [{\"marker\": {\"colorbar\": {\"outlinewidth\": 0, \"ticks\": \"\"}}, \"type\": \"scattergl\"}], \"scattermapbox\": [{\"marker\": {\"colorbar\": {\"outlinewidth\": 0, \"ticks\": \"\"}}, \"type\": \"scattermapbox\"}], \"scatterpolar\": [{\"marker\": {\"colorbar\": {\"outlinewidth\": 0, \"ticks\": \"\"}}, \"type\": \"scatterpolar\"}], \"scatterpolargl\": [{\"marker\": {\"colorbar\": {\"outlinewidth\": 0, \"ticks\": \"\"}}, \"type\": \"scatterpolargl\"}], \"scatterternary\": [{\"marker\": {\"colorbar\": {\"outlinewidth\": 0, \"ticks\": \"\"}}, \"type\": \"scatterternary\"}], \"surface\": [{\"colorbar\": {\"outlinewidth\": 0, \"ticks\": \"\"}, \"colorscale\": [[0.0, \"#0d0887\"], [0.1111111111111111, \"#46039f\"], [0.2222222222222222, \"#7201a8\"], [0.3333333333333333, \"#9c179e\"], [0.4444444444444444, \"#bd3786\"], [0.5555555555555556, \"#d8576b\"], [0.6666666666666666, \"#ed7953\"], [0.7777777777777778, \"#fb9f3a\"], [0.8888888888888888, \"#fdca26\"], [1.0, \"#f0f921\"]], \"type\": \"surface\"}], \"table\": [{\"cells\": {\"fill\": {\"color\": \"#EBF0F8\"}, \"line\": {\"color\": \"white\"}}, \"header\": {\"fill\": {\"color\": \"#C8D4E3\"}, \"line\": {\"color\": \"white\"}}, \"type\": \"table\"}]}, \"layout\": {\"annotationdefaults\": {\"arrowcolor\": \"#2a3f5f\", \"arrowhead\": 0, \"arrowwidth\": 1}, \"autotypenumbers\": \"strict\", \"coloraxis\": {\"colorbar\": {\"outlinewidth\": 0, \"ticks\": \"\"}}, \"colorscale\": {\"diverging\": [[0, \"#8e0152\"], [0.1, \"#c51b7d\"], [0.2, \"#de77ae\"], [0.3, \"#f1b6da\"], [0.4, \"#fde0ef\"], [0.5, \"#f7f7f7\"], [0.6, \"#e6f5d0\"], [0.7, \"#b8e186\"], [0.8, \"#7fbc41\"], [0.9, \"#4d9221\"], [1, \"#276419\"]], \"sequential\": [[0.0, \"#0d0887\"], [0.1111111111111111, \"#46039f\"], [0.2222222222222222, \"#7201a8\"], [0.3333333333333333, \"#9c179e\"], [0.4444444444444444, \"#bd3786\"], [0.5555555555555556, \"#d8576b\"], [0.6666666666666666, \"#ed7953\"], [0.7777777777777778, \"#fb9f3a\"], [0.8888888888888888, \"#fdca26\"], [1.0, \"#f0f921\"]], \"sequentialminus\": [[0.0, \"#0d0887\"], [0.1111111111111111, \"#46039f\"], [0.2222222222222222, \"#7201a8\"], [0.3333333333333333, \"#9c179e\"], [0.4444444444444444, \"#bd3786\"], [0.5555555555555556, \"#d8576b\"], [0.6666666666666666, \"#ed7953\"], [0.7777777777777778, \"#fb9f3a\"], [0.8888888888888888, \"#fdca26\"], [1.0, \"#f0f921\"]]}, \"colorway\": [\"#636efa\", \"#EF553B\", \"#00cc96\", \"#ab63fa\", \"#FFA15A\", \"#19d3f3\", \"#FF6692\", \"#B6E880\", \"#FF97FF\", \"#FECB52\"], \"font\": {\"color\": \"#2a3f5f\"}, \"geo\": {\"bgcolor\": \"white\", \"lakecolor\": \"white\", \"landcolor\": \"#E5ECF6\", \"showlakes\": true, \"showland\": true, \"subunitcolor\": \"white\"}, \"hoverlabel\": {\"align\": \"left\"}, \"hovermode\": \"closest\", \"mapbox\": {\"style\": \"light\"}, \"paper_bgcolor\": \"white\", \"plot_bgcolor\": \"#E5ECF6\", \"polar\": {\"angularaxis\": {\"gridcolor\": \"white\", \"linecolor\": \"white\", \"ticks\": \"\"}, \"bgcolor\": \"#E5ECF6\", \"radialaxis\": {\"gridcolor\": \"white\", \"linecolor\": \"white\", \"ticks\": \"\"}}, \"scene\": {\"xaxis\": {\"backgroundcolor\": \"#E5ECF6\", \"gridcolor\": \"white\", \"gridwidth\": 2, \"linecolor\": \"white\", \"showbackground\": true, \"ticks\": \"\", \"zerolinecolor\": \"white\"}, \"yaxis\": {\"backgroundcolor\": \"#E5ECF6\", \"gridcolor\": \"white\", \"gridwidth\": 2, \"linecolor\": \"white\", \"showbackground\": true, \"ticks\": \"\", \"zerolinecolor\": \"white\"}, \"zaxis\": {\"backgroundcolor\": \"#E5ECF6\", \"gridcolor\": \"white\", \"gridwidth\": 2, \"linecolor\": \"white\", \"showbackground\": true, \"ticks\": \"\", \"zerolinecolor\": \"white\"}}, \"shapedefaults\": {\"line\": {\"color\": \"#2a3f5f\"}}, \"ternary\": {\"aaxis\": {\"gridcolor\": \"white\", \"linecolor\": \"white\", \"ticks\": \"\"}, \"baxis\": {\"gridcolor\": \"white\", \"linecolor\": \"white\", \"ticks\": \"\"}, \"bgcolor\": \"#E5ECF6\", \"caxis\": {\"gridcolor\": \"white\", \"linecolor\": \"white\", \"ticks\": \"\"}}, \"title\": {\"x\": 0.05}, \"xaxis\": {\"automargin\": true, \"gridcolor\": \"white\", \"linecolor\": \"white\", \"ticks\": \"\", \"title\": {\"standoff\": 15}, \"zerolinecolor\": \"white\", \"zerolinewidth\": 2}, \"yaxis\": {\"automargin\": true, \"gridcolor\": \"white\", \"linecolor\": \"white\", \"ticks\": \"\", \"title\": {\"standoff\": 15}, \"zerolinecolor\": \"white\", \"zerolinewidth\": 2}}}, \"title\": {\"text\": \"Bond percolation on PLC network (N=10000, exponent=2.5, cutoff=20)\"}, \"width\": 700, \"xaxis\": {\"title\": {\"text\": \"occupation probability\"}}, \"yaxis\": {\"title\": {\"text\": \"size of giant component\"}}},                        {\"responsive\": true}                    ).then(function(){\n",
       "                            \n",
       "var gd = document.getElementById('aca2005e-15f9-4094-9c9b-e623db836002');\n",
       "var x = new MutationObserver(function (mutations, observer) {{\n",
       "        var display = window.getComputedStyle(gd).display;\n",
       "        if (!display || display === 'none') {{\n",
       "            console.log([gd, 'removed!']);\n",
       "            Plotly.purge(gd);\n",
       "            observer.disconnect();\n",
       "        }}\n",
       "}});\n",
       "\n",
       "// Listen for the removal of the full notebook cells\n",
       "var notebookContainer = gd.closest('#notebook-container');\n",
       "if (notebookContainer) {{\n",
       "    x.observe(notebookContainer, {childList: true});\n",
       "}}\n",
       "\n",
       "// Listen for the clearing of the current output cell\n",
       "var outputEl = gd.closest('.output');\n",
       "if (outputEl) {{\n",
       "    x.observe(outputEl, {childList: true});\n",
       "}}\n",
       "\n",
       "                        })                };                });            </script>        </div>"
      ]
     },
     "metadata": {},
     "output_type": "display_data"
    }
   ],
   "source": [
    "# primary percolation process\n",
    "basedf = df[df[ResidualBondPercolation.DEPTH_RESIDUAL] == 0]\n",
    "primary = go.Scatter(x=basedf[ResidualBondPercolation.P_RESIDUAL(0)], y=basedf[ResidualBondPercolation.GCC_RESIDUAL],\n",
    "                     mode='lines', marker=dict(color='green'),\n",
    "                     name='Primary network'\n",
    "                    )\n",
    "\n",
    "# residual at the chosen point in the primary percolation process\n",
    "p = ps[2]\n",
    "basedf = df[df[ResidualBondPercolation.DEPTH_RESIDUAL] == 1]\n",
    "basedf = basedf[basedf[ResidualBondPercolation.P_RESIDUAL(0)] == p]\n",
    "residual = go.Scatter(x=basedf[ResidualBondPercolation.P_RESIDUAL(1)], y=basedf[ResidualBondPercolation.GCC_RESIDUAL],\n",
    "                      mode='lines', marker=dict(color='blue'),\n",
    "                      name=f'Residual network at T={p:.2f}'\n",
    "                     )\n",
    "\n",
    "layout = go.Layout(title=f'Bond percolation on PLC network (N={N}, exponent={alpha}, cutoff={kappa})',\n",
    "                  xaxis_title='occupation probability',\n",
    "                  yaxis_title='size of giant component', width=700, height=700)\n",
    "fig = go.Figure(data=[primary, residual], layout=layout)\n",
    "fig.show()"
   ]
  },
  {
   "cell_type": "markdown",
   "id": "superb-helicopter",
   "metadata": {},
   "source": [
    "We observe that, even for $T = 0.04$ (4% of edges in the base network occupied) the percolation behaviour of the corresponding residual network is very different. We may explore this in more detail by allowing the value of $T$ to be varied and compared to the primary percolation."
   ]
  },
  {
   "cell_type": "code",
   "execution_count": 24,
   "id": "corrected-venture",
   "metadata": {},
   "outputs": [
    {
     "data": {
      "text/html": [
       "\n",
       "        <iframe\n",
       "            width=\"100%\"\n",
       "            height=\"650\"\n",
       "            src=\"http://localhost:8888/proxy/8050/\"\n",
       "            frameborder=\"0\"\n",
       "            allowfullscreen\n",
       "        ></iframe>\n",
       "        "
      ],
      "text/plain": [
       "<IPython.lib.display.IFrame at 0x7f98305235b0>"
      ]
     },
     "metadata": {},
     "output_type": "display_data"
    }
   ],
   "source": [
    "app = JupyterDash('residual-percolation-plc')\n",
    "\n",
    "basedf = df[df[ResidualBondPercolation.DEPTH_RESIDUAL] == 0]\n",
    "residualdf = df[df[ResidualBondPercolation.DEPTH_RESIDUAL] == 1]\n",
    "ps = basedf[ResidualBondPercolation.P_RESIDUAL(0)].unique()\n",
    "maxGcc = df[ResidualBondPercolation.GCC_RESIDUAL].max()\n",
    "marks = dict()\n",
    "i = 0\n",
    "for p in ps:\n",
    "    marks[p] = f'{p:.2f}' if i % 5 == 0 else ''\n",
    "    i += 1\n",
    "    \n",
    "app.layout = html.Div([\n",
    "    dcc.Graph(id='residual-percolation-plc-plot'),\n",
    "    html.Div(['Primary network occupation probability:',\n",
    "              dcc.Slider(id='residual-percolation-plc-p0',\n",
    "                         min=0.0,\n",
    "                         max=1.0,\n",
    "                         step=None,\n",
    "                         marks=marks,\n",
    "                         value=0.0,\n",
    "                        )\n",
    "             ]),\n",
    "    ],\n",
    "    style=dict(width=1000)\n",
    ")\n",
    "\n",
    "@app.callback(\n",
    "    Output('residual-percolation-plc-plot', 'figure'),\n",
    "    [Input('residual-percolation-plc-p0', 'value')]\n",
    ")\n",
    "def plot_residual(p0):\n",
    "    pdf=residualdf[residualdf[ResidualBondPercolation.P_RESIDUAL(0)] == p0]\n",
    "    \n",
    "    # primary percolation\n",
    "    primary = go.Scatter(x=ps, y=basedf[ResidualBondPercolation.GCC_RESIDUAL],\n",
    "                         mode='lines', marker=dict(color='green'),\n",
    "                         name='Primary network')\n",
    "    \n",
    "    # highlight line of where to perform residual percolation\n",
    "    pPrimary = go.Scatter(x=[p0, p0], y=[0.0, maxGcc],\n",
    "                          mode='lines', marker=dict(color='salmon'),\n",
    "                          name=f'Primary network occupation probability {p0:.2f}')\n",
    "    \n",
    "    # residual percolation\n",
    "    residual = go.Scatter(x=pdf[ResidualBondPercolation.P_RESIDUAL(1)], y=pdf[ResidualBondPercolation.GCC_RESIDUAL],\n",
    "                          mode='lines+markers', marker=dict(color='blue'),\n",
    "                          name='Residual network')\n",
    "    \n",
    "    layout = go.Layout(title=f'Residual network percolation (N={N}, exponent={alpha}, cutoff={kappa})',\n",
    "                       xaxis_title='occupation probability',\n",
    "                       yaxis_title='size of GCC',\n",
    "                       width=1000, height=500)\n",
    "    fig = go.Figure(data=[primary, pPrimary, residual], layout=layout)\n",
    "    return fig\n",
    "            \n",
    "app.run_server(mode='inline', debug='true', use_reloader=False)"
   ]
  },
  {
   "cell_type": "markdown",
   "id": "narrow-wellington",
   "metadata": {},
   "source": [
    "This is unexpected. For small values of $T$ there can be very little difference between $G$ and $B_T$, the latter being the former without a small fraction of the edges and the nodes on which they are incident. Nevertheless, it appears that even such a small disruption significantly changes the percolation behaviour.\n",
    "\n",
    "We hypothesise that the cause of this anomaly is that the first percolation process \"fractures\" the base network on which the residual percolation occurs, by which we mean that it changes it topology sufficiently to change its percolation threshold. One possible mechanism is indiced by the random selection of edges in the primary percolation. At the early stages (small values of $T$) each edge occupies causes two nodes to be occupied, since it is unlikely that an edge selected at random will be incident on an already-occupied node. Suppose the node at one end of an occupied edge has degree $k$. Since there are more edges incident on a high-degree node than on a low-degree node, an edge chosen at random has a higher probability of being incident on a high-degree node than on a low-degree node. Occupying a node, placing it in $O_T$, means that all other $(k -  1)$ edges incident on it are placed into the boundary of $O_T$ and so become inaccessible to any percolation happening on the residual network. The occupation of high-degree nodes has a small impact on the number of nodes in the residual network, but a considerably larger impact on the number of edges in the residual network, so if high-degree nodes are preferentially occupied the number of residual edges will shrink more slowly than expected, which in turn suppresses the degree distribution of the residual network more dramatically than expected. Whether this hypothesis is accurate needs more research. "
   ]
  }
 ],
 "metadata": {
  "kernelspec": {
   "display_name": "Python 3",
   "language": "python",
   "name": "python3"
  },
  "language_info": {
   "codemirror_mode": {
    "name": "ipython",
    "version": 3
   },
   "file_extension": ".py",
   "mimetype": "text/x-python",
   "name": "python",
   "nbconvert_exporter": "python",
   "pygments_lexer": "ipython3",
   "version": "3.9.1"
  }
 },
 "nbformat": 4,
 "nbformat_minor": 5
}
